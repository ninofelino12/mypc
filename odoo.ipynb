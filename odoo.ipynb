{
 "cells": [
  {
   "cell_type": "markdown",
   "id": "c8b8d428-9547-485e-8f60-7b386b4f9b58",
   "metadata": {},
   "source": [
    "conect ke odoo server\n"
   ]
  },
  {
   "cell_type": "code",
   "execution_count": 2,
   "id": "0ff07a68-a91d-4bc3-b180-611a12fef11c",
   "metadata": {},
   "outputs": [
    {
     "name": "stdout",
     "output_type": "stream",
     "text": [
      "1\n"
     ]
    }
   ],
   "source": [
    "import xmlrpc.client\n",
    "\n",
    "# Ganti URL dan port sesuai dengan konfigurasi Odoo Anda\n",
    "url = 'http://203.194.112.105:8000'\n",
    "db = 'demo-01'\n",
    "username = 'admin'\n",
    "password = 'odooadmin'\n",
    "\n",
    "common = xmlrpc.client.ServerProxy(f'{url}/xmlrpc/2/common')\n",
    "uid = common.authenticate(db, username, password, {})\n",
    "print(uid)\n"
   ]
  },
  {
   "cell_type": "markdown",
   "id": "20789076-dd3b-4c56-ba52-713160895cb7",
   "metadata": {},
   "source": [
    "akses model"
   ]
  },
  {
   "cell_type": "code",
   "execution_count": 7,
   "id": "181c7652-5550-4718-ace4-f5226663c438",
   "metadata": {},
   "outputs": [
    {
     "name": "stdout",
     "output_type": "stream",
     "text": [
      "ID: 3, Nama: Administrator, Email: admin@example.com\n",
      "ID: 8, Nama: New Partner, Email: False\n",
      "ID: 6, Nama: New Partner, Email: False\n",
      "ID: 9, Nama: New Partner, Email: False\n",
      "ID: 7, Nama: New Partner, Email: False\n",
      "ID: 5, Nama: Template User, Email: False\n",
      "ID: 1, Nama: Your Company, Email: info@yourcompany.com\n"
     ]
    }
   ],
   "source": [
    " models = xmlrpc.client.ServerProxy('{}/xmlrpc/2/object'.format(url))\n",
    " partner_ids = models.execute_kw(db, uid, password,'res.partner', 'search',[[]])\n",
    " partners = models.execute_kw(db, uid, password,\n",
    "                                 'res.partner', 'read',\n",
    "                                 [partner_ids], {'fields': ['name', 'email']})\n",
    " \n",
    "for partner in partners:\n",
    "        print(\"ID: {}, Nama: {}, Email: {}\".format(partner['id'], partner['name'], partner['email']))\n",
    "     "
   ]
  },
  {
   "cell_type": "code",
   "execution_count": 8,
   "id": "47dd4dbe-76e7-4eae-bc81-7b618cebe5a0",
   "metadata": {},
   "outputs": [
    {
     "name": "stdout",
     "output_type": "stream",
     "text": [
      "{'email': 'info@yourcompany.com', 'id': 1, 'name': 'Your Company'}\n"
     ]
    }
   ],
   "source": [
    "print(partner)\n"
   ]
  },
  {
   "cell_type": "code",
   "execution_count": null,
   "id": "933e9f5c-5f30-4afb-b362-ee45ad55e71d",
   "metadata": {},
   "outputs": [],
   "source": []
  },
  {
   "cell_type": "markdown",
   "metadata": {},
   "source": [
    "Render template"
   ]
  },
  {
   "cell_type": "code",
   "execution_count": null,
   "metadata": {},
   "outputs": [],
   "source": [
    "from flask import Flask, render_template\n",
    "import xmlrpc.client\n",
    "\n",
    "app = Flask(__name__)\n",
    "\n",
    "@app.route('/')\n",
    "def index():\n",
    "    # Connect to Odoo using XML-RPC\n",
    "    url = 'https://your-odoo-url.com/xmlrpc/2/object'\n",
    "    db = 'your-database'\n",
    "    username = 'your-username'\n",
    "    password = 'your-password'\n",
    "\n",
    "    common = xmlrpc.client.ServerProxy(url)\n",
    "    uid = common.authenticate(db, username, password, {})\n",
    "\n",
    "    models = xmlrpc.client.ServerProxy('{}/xmlrpc/2/object'.format(url))\n",
    "\n",
    "    template_name = 'your-template-name'  # Nama template yang ingin Anda render\n",
    "\n",
    "    # Render the template\n",
    "    template_id = models.execute_kw(db, uid, password, 'ir.model.data', 'search',\n",
    "                                    [['model', '=', 'email.template'], ['name', '=', template_name]])\n",
    "    if template_id:\n",
    "        template_data = models.execute_kw(db, uid, password, 'ir.model.data', 'render_template',\n",
    "                                          [template_id[0], 'res.partner', 1])\n",
    "        return render_template(\"template.html\", template_data=template_data)\n",
    "    else:\n",
    "        return \"Template not found\"\n",
    "\n",
    "if __name__ == '__main__':\n",
    "    app.run()"
   ]
  }
 ],
 "metadata": {
  "kernelspec": {
   "display_name": "Python 3 (ipykernel)",
   "language": "python",
   "name": "python3"
  },
  "language_info": {
   "codemirror_mode": {
    "name": "ipython",
    "version": 3
   },
   "file_extension": ".py",
   "mimetype": "text/x-python",
   "name": "python",
   "nbconvert_exporter": "python",
   "pygments_lexer": "ipython3",
   "version": "3.8.10"
  }
 },
 "nbformat": 4,
 "nbformat_minor": 5
}
