{
 "cells": [
  {
   "cell_type": "code",
   "execution_count": null,
   "metadata": {
    "vscode": {
     "languageId": "html"
    }
   },
   "outputs": [],
   "source": [
    "my_report_module/manifest.py\n",
    "\n"
   ]
  },
  {
   "cell_type": "code",
   "execution_count": null,
   "metadata": {},
   "outputs": [],
   "source": [
    "{\n",
    "    'name': 'My Report Module',\n",
    "    'version': '1.0',\n",
    "    'depends': ['base'],\n",
    "    'author': 'Your Name',\n",
    "    'category': 'Uncategorized',\n",
    "    'description': 'A simple Odoo module with a report.',\n",
    "    'data': [\n",
    "        'views/report_template.xml',\n",
    "        'views/report_menu.xml',\n",
    "    ],\n",
    "    'installable': True,\n",
    "    'auto_install': False,\n",
    "}\n"
   ]
  },
  {
   "cell_type": "markdown",
   "metadata": {},
   "source": [
    "my_report_module/models/models.py"
   ]
  },
  {
   "cell_type": "code",
   "execution_count": null,
   "metadata": {},
   "outputs": [],
   "source": [
    "from odoo import models, fields\n",
    "\n",
    "class ReportModel(models.Model):\n",
    "    _name = 'my.report.model'\n",
    "    _description = 'My Report Model'\n",
    "\n",
    "    name = fields.Char(string='Name')\n",
    "    description = fields.Text(string='Description')\n"
   ]
  },
  {
   "cell_type": "markdown",
   "metadata": {},
   "source": [
    "my_report_module/views/report_template.xml"
   ]
  },
  {
   "cell_type": "code",
   "execution_count": null,
   "metadata": {},
   "outputs": [],
   "source": [
    "<?xml version=\"1.0\" encoding=\"utf-8\"?>\n",
    "<odoo>\n",
    "    <data>\n",
    "        <template id=\"report_my_template\">\n",
    "            <t t-call=\"web.external_layout\">\n",
    "                <div class=\"page\">\n",
    "                    <div class=\"oe_structure\"/>\n",
    "                    <div class=\"row\">\n",
    "                        <div class=\"col-12\">\n",
    "                            <h1>My Report</h1>\n",
    "                            <t t-foreach=\"docs\" t-as=\"o\">\n",
    "                                <t t-set=\"doc\" t-value=\"o\"/>\n",
    "                                <p><t t-esc=\"doc.name\"/></p>\n",
    "                                <p><t t-esc=\"doc.description\"/></p>\n",
    "                            </t>\n",
    "                        </div>\n",
    "                    </div>\n",
    "                </div>\n",
    "            </t>\n",
    "        </template>\n",
    "    </data>\n",
    "</odoo>\n"
   ]
  },
  {
   "cell_type": "markdown",
   "metadata": {},
   "source": [
    "my_report_module/views/report_menu.xml\n",
    "\n",
    "xml\n"
   ]
  },
  {
   "cell_type": "code",
   "execution_count": null,
   "metadata": {},
   "outputs": [],
   "source": [
    "<?xml version=\"1.0\" encoding=\"utf-8\"?>\n",
    "<odoo>\n",
    "    <data>\n",
    "        <menuitem id=\"menu_my_report\" name=\"My Report\" sequence=\"10\" />\n",
    "        <menuitem id=\"menu_my_report_list\" name=\"My Report List\" parent=\"menu_my_report\" action=\"action_my_report\"/>\n",
    "    </data>\n",
    "</odoo>\n"
   ]
  },
  {
   "cell_type": "markdown",
   "metadata": {},
   "source": [
    "<?xml version=\"1.0\" encoding=\"utf-8\"?>\n",
    "<odoo>\n",
    "    <data>\n",
    "        <menuitem id=\"menu_my_report\" name=\"My Report\" sequence=\"10\" />\n",
    "        <menuitem id=\"menu_my_report_list\" name=\"My Report List\" parent=\"menu_my_report\" action=\"action_my_report\"/>\n",
    "    </data>\n",
    "</odoo>\n"
   ]
  },
  {
   "cell_type": "markdown",
   "metadata": {},
   "source": [
    "{\n",
    "    ...\n",
    "    'data': [\n",
    "        'views/report_template.xml',\n",
    "        'views/report_menu.xml',\n",
    "        'views/actions.xml',\n",
    "    ],\n",
    "    ...\n",
    "}\n"
   ]
  },
  {
   "cell_type": "markdown",
   "metadata": {},
   "source": [
    "{\n",
    "    ...\n",
    "    'data': [\n",
    "        'views/report_template.xml',\n",
    "        'views/report_menu.xml',\n",
    "        'views/actions.xml',\n",
    "    ],\n",
    "    ...\n",
    "}\n"
   ]
  },
  {
   "cell_type": "markdown",
   "metadata": {},
   "source": [
    "my_report_module/views/actions.xml"
   ]
  },
  {
   "cell_type": "code",
   "execution_count": null,
   "metadata": {},
   "outputs": [],
   "source": [
    "<?xml version=\"1.0\" encoding=\"utf-8\"?>\n",
    "<odoo>\n",
    "    <data>\n",
    "        <!-- Action for the report -->\n",
    "        <record id=\"action_my_report\" model=\"ir.actions.act_window\">\n",
    "            <field name=\"name\">My Report</field>\n",
    "            <field name=\"res_model\">my.report.model</field>\n",
    "            <field name=\"view_mode\">tree,form</field>\n",
    "            <field name=\"view_id\" ref=\"my_report_module.view_my_report_model_tree\"/>\n",
    "        </record>\n",
    "    </data>\n",
    "</odoo>\n"
   ]
  },
  {
   "cell_type": "markdown",
   "metadata": {},
   "source": []
  }
 ],
 "metadata": {
  "language_info": {
   "name": "python"
  }
 },
 "nbformat": 4,
 "nbformat_minor": 2
}
