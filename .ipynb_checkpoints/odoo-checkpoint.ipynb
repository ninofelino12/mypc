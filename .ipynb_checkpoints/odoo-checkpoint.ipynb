{
 "cells": [
  {
   "cell_type": "markdown",
   "id": "c8b8d428-9547-485e-8f60-7b386b4f9b58",
   "metadata": {},
   "source": [
    "conect ke odoo server\n"
   ]
  },
  {
   "cell_type": "code",
   "execution_count": 1,
   "id": "0ff07a68-a91d-4bc3-b180-611a12fef11c",
   "metadata": {},
   "outputs": [
    {
     "ename": "SyntaxError",
     "evalue": "invalid syntax (3760671866.py, line 1)",
     "output_type": "error",
     "traceback": [
      "\u001b[0;36m  Cell \u001b[0;32mIn[1], line 1\u001b[0;36m\u001b[0m\n\u001b[0;31m    mport xmlrpc.client\u001b[0m\n\u001b[0m          ^\u001b[0m\n\u001b[0;31mSyntaxError\u001b[0m\u001b[0;31m:\u001b[0m invalid syntax\n"
     ]
    }
   ],
   "source": [
    "import xmlrpc.client\n",
    "\n",
    "# Ganti URL dan port sesuai dengan konfigurasi Odoo Anda\n",
    "url = 'http://203.194.112.105:8000'\n",
    "db = 'demo-01'\n",
    "username = 'admin'\n",
    "password = 'odooadmin'\n",
    "\n",
    "common = xmlrpc.client.ServerProxy(f'{url}/xmlrpc/2/common')\n",
    "uid = common.authenticate(db, username, password, {})\n",
    "print(uid)\n"
   ]
  },
  {
   "cell_type": "code",
   "execution_count": null,
   "id": "f54ac202-242f-4003-aa1d-bf37e9325354",
   "metadata": {},
   "outputs": [],
   "source": []
  }
 ],
 "metadata": {
  "kernelspec": {
   "display_name": "Python 3 (ipykernel)",
   "language": "python",
   "name": "python3"
  },
  "language_info": {
   "codemirror_mode": {
    "name": "ipython",
    "version": 3
   },
   "file_extension": ".py",
   "mimetype": "text/x-python",
   "name": "python",
   "nbconvert_exporter": "python",
   "pygments_lexer": "ipython3",
   "version": "3.8.10"
  }
 },
 "nbformat": 4,
 "nbformat_minor": 5
}
