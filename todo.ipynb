{
 "cells": [
  {
   "cell_type": "markdown",
   "metadata": {},
   "source": [
    "todo_view.xml"
   ]
  },
  {
   "cell_type": "code",
   "execution_count": null,
   "metadata": {
    "vscode": {
     "languageId": "xml"
    }
   },
   "outputs": [],
   "source": [
    "<?xml version=\"1.0\"?>\n",
    "<openerp>\n",
    " <data>\n",
    " <!-- Action to open To-do Task list -->\n",
    " <act_window id=\"action_todo_task\"\n",
    " name=\"To-do Task\"\n",
    " res_model=\"todo.task\"\n",
    " view_mode=\"tree,form\" />\n",
    " <!-- Menu item to open To-do Task list -->\n",
    " <menuitem id=\"menu _todo_task\"\n",
    " name=\"To-Do Tasks\"\n",
    " parent=\"mail.mail_feeds\"\n",
    " sequence=\"20\"\n",
    " action=\"action_todo_task\" />\n",
    " </data>\n",
    "</openerp>"
   ]
  },
  {
   "cell_type": "markdown",
   "metadata": {},
   "source": []
  }
 ],
 "metadata": {
  "language_info": {
   "name": "python"
  }
 },
 "nbformat": 4,
 "nbformat_minor": 2
}
