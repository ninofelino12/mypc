{
 "cells": [
  {
   "cell_type": "code",
   "execution_count": 1,
   "id": "aa24ebeb-17e8-4914-9d59-68b681cc5bff",
   "metadata": {},
   "outputs": [
    {
     "name": "stdout",
     "output_type": "stream",
     "text": [
      "CONTAINER ID   IMAGE                           COMMAND                  CREATED          STATUS          PORTS                                                                                                                                        NAMES\n",
      "46c45336b29f   odoo:15                         \"/entrypoint.sh --\"      32 minutes ago   Up 32 minutes   0.0.0.0:8069->8069/tcp, :::8069->8069/tcp, 8071-8072/tcp, 0.0.0.0:8080->80/tcp, :::8080->80/tcp, 0.0.0.0:8082->8080/tcp, :::8082->8080/tcp   mypc-odoo15-1\n",
      "75ef1808489d   postgres:14                     \"docker-entrypoint.s…\"   32 minutes ago   Up 32 minutes   5432/tcp                                                                                                                                     mypc-db-1\n",
      "bb7c171141df   portainer/portainer-ce:latest   \"/portainer\"             45 hours ago     Up 2 hours      0.0.0.0:8000->8000/tcp, :::8000->8000/tcp, 0.0.0.0:9443->9443/tcp, :::9443->9443/tcp, 9000/tcp                                               portainer\n"
     ]
    }
   ],
   "source": [
    "%%bash\n",
    "docker ps"
   ]
  }
 ],
 "metadata": {
  "kernelspec": {
   "display_name": "Python 3 (ipykernel)",
   "language": "python",
   "name": "python3"
  },
  "language_info": {
   "codemirror_mode": {
    "name": "ipython",
    "version": 3
   },
   "file_extension": ".py",
   "mimetype": "text/x-python",
   "name": "python",
   "nbconvert_exporter": "python",
   "pygments_lexer": "ipython3",
   "version": "3.8.10"
  }
 },
 "nbformat": 4,
 "nbformat_minor": 5
}
